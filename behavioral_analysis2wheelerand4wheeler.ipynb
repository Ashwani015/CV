{
  "nbformat": 4,
  "nbformat_minor": 0,
  "metadata": {
    "colab": {
      "provenance": [],
      "authorship_tag": "ABX9TyPwr9av/Q9JQh94qt2wcJuQ",
      "include_colab_link": true
    },
    "kernelspec": {
      "name": "python3",
      "display_name": "Python 3"
    },
    "language_info": {
      "name": "python"
    }
  },
  "cells": [
    {
      "cell_type": "markdown",
      "metadata": {
        "id": "view-in-github",
        "colab_type": "text"
      },
      "source": [
        "<a href=\"https://colab.research.google.com/github/Ashwani015/CV/blob/main/behavioral_analysis2wheelerand4wheeler.ipynb\" target=\"_parent\"><img src=\"https://colab.research.google.com/assets/colab-badge.svg\" alt=\"Open In Colab\"/></a>"
      ]
    },
    {
      "cell_type": "markdown",
      "source": [],
      "metadata": {
        "id": "uIo6JYDEZ8Ur"
      }
    },
    {
      "cell_type": "code",
      "execution_count": 1,
      "metadata": {
        "id": "dgjZPy0lZ0EN"
      },
      "outputs": [],
      "source": [
        "import pandas as pd\n",
        "import numpy as np\n",
        "import matplotlib.pyplot as plt\n",
        "import seaborn as sns"
      ]
    },
    {
      "cell_type": "code",
      "source": [
        "df = pd.read_csv('/content/2-wheeler-EV-bikewale.csv')\n",
        "df.head()"
      ],
      "metadata": {
        "colab": {
          "base_uri": "https://localhost:8080/",
          "height": 458
        },
        "id": "bAXvyltGaR-V",
        "outputId": "55cfdb7a-75f9-4c15-8a63-5b84d3c55465"
      },
      "execution_count": 15,
      "outputs": [
        {
          "output_type": "execute_result",
          "data": {
            "text/plain": [
              "                                              review    Used it for  \\\n",
              "0  We all checked the bike's capacity to be 150 k...  Daily Commute   \n",
              "1  Performance is very poor on this bike. The cha...     Everything   \n",
              "2  I purchased this in April 2022 and the sales s...  Daily Commute   \n",
              "3  If any issues come in scooty parts not availab...  Daily Commute   \n",
              "4  Don't buy this vehicle unless you have a near ...  Daily Commute   \n",
              "\n",
              "       Owned for      Ridden for  rating  Visual Appeal  Reliability  \\\n",
              "0    Never owned             NaN       1            3.0          4.0   \n",
              "1         > 1 yr      < 5000 kms       1            3.0          1.0   \n",
              "2     < 3 months      < 5000 kms       3            4.0          4.0   \n",
              "3  6 months-1 yr  5000-10000 kms       1            1.0          1.0   \n",
              "4  6 months-1 yr      < 5000 kms       1            3.0          4.0   \n",
              "\n",
              "   Performance  Service Experience  Extra Features  Comfort  Maintenance cost  \\\n",
              "0          NaN                 NaN             NaN      4.0               NaN   \n",
              "1          NaN                 1.0             NaN      3.0               NaN   \n",
              "2          NaN                 2.0             NaN      5.0               NaN   \n",
              "3          NaN                 1.0             NaN      1.0               NaN   \n",
              "4          NaN                 1.0             NaN      3.0               NaN   \n",
              "\n",
              "   Value for Money Model Name  \n",
              "0              1.0  TVS iQube  \n",
              "1              3.0  TVS iQube  \n",
              "2              2.0  TVS iQube  \n",
              "3              1.0  TVS iQube  \n",
              "4              2.0  TVS iQube  "
            ],
            "text/html": [
              "\n",
              "  <div id=\"df-68fe6ddb-612b-4371-8d93-cca725b2be77\">\n",
              "    <div class=\"colab-df-container\">\n",
              "      <div>\n",
              "<style scoped>\n",
              "    .dataframe tbody tr th:only-of-type {\n",
              "        vertical-align: middle;\n",
              "    }\n",
              "\n",
              "    .dataframe tbody tr th {\n",
              "        vertical-align: top;\n",
              "    }\n",
              "\n",
              "    .dataframe thead th {\n",
              "        text-align: right;\n",
              "    }\n",
              "</style>\n",
              "<table border=\"1\" class=\"dataframe\">\n",
              "  <thead>\n",
              "    <tr style=\"text-align: right;\">\n",
              "      <th></th>\n",
              "      <th>review</th>\n",
              "      <th>Used it for</th>\n",
              "      <th>Owned for</th>\n",
              "      <th>Ridden for</th>\n",
              "      <th>rating</th>\n",
              "      <th>Visual Appeal</th>\n",
              "      <th>Reliability</th>\n",
              "      <th>Performance</th>\n",
              "      <th>Service Experience</th>\n",
              "      <th>Extra Features</th>\n",
              "      <th>Comfort</th>\n",
              "      <th>Maintenance cost</th>\n",
              "      <th>Value for Money</th>\n",
              "      <th>Model Name</th>\n",
              "    </tr>\n",
              "  </thead>\n",
              "  <tbody>\n",
              "    <tr>\n",
              "      <th>0</th>\n",
              "      <td>We all checked the bike's capacity to be 150 k...</td>\n",
              "      <td>Daily Commute</td>\n",
              "      <td>Never owned</td>\n",
              "      <td>NaN</td>\n",
              "      <td>1</td>\n",
              "      <td>3.0</td>\n",
              "      <td>4.0</td>\n",
              "      <td>NaN</td>\n",
              "      <td>NaN</td>\n",
              "      <td>NaN</td>\n",
              "      <td>4.0</td>\n",
              "      <td>NaN</td>\n",
              "      <td>1.0</td>\n",
              "      <td>TVS iQube</td>\n",
              "    </tr>\n",
              "    <tr>\n",
              "      <th>1</th>\n",
              "      <td>Performance is very poor on this bike. The cha...</td>\n",
              "      <td>Everything</td>\n",
              "      <td>&gt; 1 yr</td>\n",
              "      <td>&lt; 5000 kms</td>\n",
              "      <td>1</td>\n",
              "      <td>3.0</td>\n",
              "      <td>1.0</td>\n",
              "      <td>NaN</td>\n",
              "      <td>1.0</td>\n",
              "      <td>NaN</td>\n",
              "      <td>3.0</td>\n",
              "      <td>NaN</td>\n",
              "      <td>3.0</td>\n",
              "      <td>TVS iQube</td>\n",
              "    </tr>\n",
              "    <tr>\n",
              "      <th>2</th>\n",
              "      <td>I purchased this in April 2022 and the sales s...</td>\n",
              "      <td>Daily Commute</td>\n",
              "      <td>&lt; 3 months</td>\n",
              "      <td>&lt; 5000 kms</td>\n",
              "      <td>3</td>\n",
              "      <td>4.0</td>\n",
              "      <td>4.0</td>\n",
              "      <td>NaN</td>\n",
              "      <td>2.0</td>\n",
              "      <td>NaN</td>\n",
              "      <td>5.0</td>\n",
              "      <td>NaN</td>\n",
              "      <td>2.0</td>\n",
              "      <td>TVS iQube</td>\n",
              "    </tr>\n",
              "    <tr>\n",
              "      <th>3</th>\n",
              "      <td>If any issues come in scooty parts not availab...</td>\n",
              "      <td>Daily Commute</td>\n",
              "      <td>6 months-1 yr</td>\n",
              "      <td>5000-10000 kms</td>\n",
              "      <td>1</td>\n",
              "      <td>1.0</td>\n",
              "      <td>1.0</td>\n",
              "      <td>NaN</td>\n",
              "      <td>1.0</td>\n",
              "      <td>NaN</td>\n",
              "      <td>1.0</td>\n",
              "      <td>NaN</td>\n",
              "      <td>1.0</td>\n",
              "      <td>TVS iQube</td>\n",
              "    </tr>\n",
              "    <tr>\n",
              "      <th>4</th>\n",
              "      <td>Don't buy this vehicle unless you have a near ...</td>\n",
              "      <td>Daily Commute</td>\n",
              "      <td>6 months-1 yr</td>\n",
              "      <td>&lt; 5000 kms</td>\n",
              "      <td>1</td>\n",
              "      <td>3.0</td>\n",
              "      <td>4.0</td>\n",
              "      <td>NaN</td>\n",
              "      <td>1.0</td>\n",
              "      <td>NaN</td>\n",
              "      <td>3.0</td>\n",
              "      <td>NaN</td>\n",
              "      <td>2.0</td>\n",
              "      <td>TVS iQube</td>\n",
              "    </tr>\n",
              "  </tbody>\n",
              "</table>\n",
              "</div>\n",
              "      <button class=\"colab-df-convert\" onclick=\"convertToInteractive('df-68fe6ddb-612b-4371-8d93-cca725b2be77')\"\n",
              "              title=\"Convert this dataframe to an interactive table.\"\n",
              "              style=\"display:none;\">\n",
              "        \n",
              "  <svg xmlns=\"http://www.w3.org/2000/svg\" height=\"24px\"viewBox=\"0 0 24 24\"\n",
              "       width=\"24px\">\n",
              "    <path d=\"M0 0h24v24H0V0z\" fill=\"none\"/>\n",
              "    <path d=\"M18.56 5.44l.94 2.06.94-2.06 2.06-.94-2.06-.94-.94-2.06-.94 2.06-2.06.94zm-11 1L8.5 8.5l.94-2.06 2.06-.94-2.06-.94L8.5 2.5l-.94 2.06-2.06.94zm10 10l.94 2.06.94-2.06 2.06-.94-2.06-.94-.94-2.06-.94 2.06-2.06.94z\"/><path d=\"M17.41 7.96l-1.37-1.37c-.4-.4-.92-.59-1.43-.59-.52 0-1.04.2-1.43.59L10.3 9.45l-7.72 7.72c-.78.78-.78 2.05 0 2.83L4 21.41c.39.39.9.59 1.41.59.51 0 1.02-.2 1.41-.59l7.78-7.78 2.81-2.81c.8-.78.8-2.07 0-2.86zM5.41 20L4 18.59l7.72-7.72 1.47 1.35L5.41 20z\"/>\n",
              "  </svg>\n",
              "      </button>\n",
              "      \n",
              "  <style>\n",
              "    .colab-df-container {\n",
              "      display:flex;\n",
              "      flex-wrap:wrap;\n",
              "      gap: 12px;\n",
              "    }\n",
              "\n",
              "    .colab-df-convert {\n",
              "      background-color: #E8F0FE;\n",
              "      border: none;\n",
              "      border-radius: 50%;\n",
              "      cursor: pointer;\n",
              "      display: none;\n",
              "      fill: #1967D2;\n",
              "      height: 32px;\n",
              "      padding: 0 0 0 0;\n",
              "      width: 32px;\n",
              "    }\n",
              "\n",
              "    .colab-df-convert:hover {\n",
              "      background-color: #E2EBFA;\n",
              "      box-shadow: 0px 1px 2px rgba(60, 64, 67, 0.3), 0px 1px 3px 1px rgba(60, 64, 67, 0.15);\n",
              "      fill: #174EA6;\n",
              "    }\n",
              "\n",
              "    [theme=dark] .colab-df-convert {\n",
              "      background-color: #3B4455;\n",
              "      fill: #D2E3FC;\n",
              "    }\n",
              "\n",
              "    [theme=dark] .colab-df-convert:hover {\n",
              "      background-color: #434B5C;\n",
              "      box-shadow: 0px 1px 3px 1px rgba(0, 0, 0, 0.15);\n",
              "      filter: drop-shadow(0px 1px 2px rgba(0, 0, 0, 0.3));\n",
              "      fill: #FFFFFF;\n",
              "    }\n",
              "  </style>\n",
              "\n",
              "      <script>\n",
              "        const buttonEl =\n",
              "          document.querySelector('#df-68fe6ddb-612b-4371-8d93-cca725b2be77 button.colab-df-convert');\n",
              "        buttonEl.style.display =\n",
              "          google.colab.kernel.accessAllowed ? 'block' : 'none';\n",
              "\n",
              "        async function convertToInteractive(key) {\n",
              "          const element = document.querySelector('#df-68fe6ddb-612b-4371-8d93-cca725b2be77');\n",
              "          const dataTable =\n",
              "            await google.colab.kernel.invokeFunction('convertToInteractive',\n",
              "                                                     [key], {});\n",
              "          if (!dataTable) return;\n",
              "\n",
              "          const docLinkHtml = 'Like what you see? Visit the ' +\n",
              "            '<a target=\"_blank\" href=https://colab.research.google.com/notebooks/data_table.ipynb>data table notebook</a>'\n",
              "            + ' to learn more about interactive tables.';\n",
              "          element.innerHTML = '';\n",
              "          dataTable['output_type'] = 'display_data';\n",
              "          await google.colab.output.renderOutput(dataTable, element);\n",
              "          const docLink = document.createElement('div');\n",
              "          docLink.innerHTML = docLinkHtml;\n",
              "          element.appendChild(docLink);\n",
              "        }\n",
              "      </script>\n",
              "    </div>\n",
              "  </div>\n",
              "  "
            ]
          },
          "metadata": {},
          "execution_count": 15
        }
      ]
    },
    {
      "cell_type": "code",
      "source": [
        "df.info()"
      ],
      "metadata": {
        "colab": {
          "base_uri": "https://localhost:8080/"
        },
        "id": "zB9_249ubIcF",
        "outputId": "6a0edb7f-b485-4a34-e57c-6e08e329b377"
      },
      "execution_count": 3,
      "outputs": [
        {
          "output_type": "stream",
          "name": "stdout",
          "text": [
            "<class 'pandas.core.frame.DataFrame'>\n",
            "RangeIndex: 844 entries, 0 to 843\n",
            "Data columns (total 14 columns):\n",
            " #   Column              Non-Null Count  Dtype  \n",
            "---  ------              --------------  -----  \n",
            " 0   review              797 non-null    object \n",
            " 1   Used it for         844 non-null    object \n",
            " 2   Owned for           844 non-null    object \n",
            " 3   Ridden for          668 non-null    object \n",
            " 4   rating              844 non-null    int64  \n",
            " 5   Visual Appeal       739 non-null    float64\n",
            " 6   Reliability         716 non-null    float64\n",
            " 7   Performance         345 non-null    float64\n",
            " 8   Service Experience  703 non-null    float64\n",
            " 9   Extra Features      185 non-null    float64\n",
            " 10  Comfort             530 non-null    float64\n",
            " 11  Maintenance cost    180 non-null    float64\n",
            " 12  Value for Money     390 non-null    float64\n",
            " 13  Model Name          844 non-null    object \n",
            "dtypes: float64(8), int64(1), object(5)\n",
            "memory usage: 92.4+ KB\n"
          ]
        }
      ]
    },
    {
      "cell_type": "code",
      "source": [
        "df.shape"
      ],
      "metadata": {
        "colab": {
          "base_uri": "https://localhost:8080/"
        },
        "id": "2ifulIyNbSAq",
        "outputId": "b2f8a20b-c427-499e-b5da-756f9feb497e"
      },
      "execution_count": 5,
      "outputs": [
        {
          "output_type": "execute_result",
          "data": {
            "text/plain": [
              "(844, 14)"
            ]
          },
          "metadata": {},
          "execution_count": 5
        }
      ]
    },
    {
      "cell_type": "code",
      "source": [
        "df.columns"
      ],
      "metadata": {
        "colab": {
          "base_uri": "https://localhost:8080/"
        },
        "id": "3ZSbCM1cbZFV",
        "outputId": "286678c5-3036-4dd1-c998-5e7369b5c2a1"
      },
      "execution_count": 6,
      "outputs": [
        {
          "output_type": "execute_result",
          "data": {
            "text/plain": [
              "Index(['review', 'Used it for', 'Owned for', 'Ridden for', 'rating',\n",
              "       'Visual Appeal', 'Reliability', 'Performance', 'Service Experience',\n",
              "       'Extra Features', 'Comfort', 'Maintenance cost', 'Value for Money',\n",
              "       'Model Name'],\n",
              "      dtype='object')"
            ]
          },
          "metadata": {},
          "execution_count": 6
        }
      ]
    },
    {
      "cell_type": "code",
      "source": [
        "df = df.drop(['review', 'Owned for', 'Ridden for',], axis=1)\n",
        "df.head()"
      ],
      "metadata": {
        "colab": {
          "base_uri": "https://localhost:8080/",
          "height": 250
        },
        "id": "J4lAw924bcbP",
        "outputId": "112e38f1-7694-46cf-a41e-866321117f43"
      },
      "execution_count": 16,
      "outputs": [
        {
          "output_type": "execute_result",
          "data": {
            "text/plain": [
              "     Used it for  rating  Visual Appeal  Reliability  Performance  \\\n",
              "0  Daily Commute       1            3.0          4.0          NaN   \n",
              "1     Everything       1            3.0          1.0          NaN   \n",
              "2  Daily Commute       3            4.0          4.0          NaN   \n",
              "3  Daily Commute       1            1.0          1.0          NaN   \n",
              "4  Daily Commute       1            3.0          4.0          NaN   \n",
              "\n",
              "   Service Experience  Extra Features  Comfort  Maintenance cost  \\\n",
              "0                 NaN             NaN      4.0               NaN   \n",
              "1                 1.0             NaN      3.0               NaN   \n",
              "2                 2.0             NaN      5.0               NaN   \n",
              "3                 1.0             NaN      1.0               NaN   \n",
              "4                 1.0             NaN      3.0               NaN   \n",
              "\n",
              "   Value for Money Model Name  \n",
              "0              1.0  TVS iQube  \n",
              "1              3.0  TVS iQube  \n",
              "2              2.0  TVS iQube  \n",
              "3              1.0  TVS iQube  \n",
              "4              2.0  TVS iQube  "
            ],
            "text/html": [
              "\n",
              "  <div id=\"df-762acbde-cca6-490d-8c26-e6d2a27e5d0d\">\n",
              "    <div class=\"colab-df-container\">\n",
              "      <div>\n",
              "<style scoped>\n",
              "    .dataframe tbody tr th:only-of-type {\n",
              "        vertical-align: middle;\n",
              "    }\n",
              "\n",
              "    .dataframe tbody tr th {\n",
              "        vertical-align: top;\n",
              "    }\n",
              "\n",
              "    .dataframe thead th {\n",
              "        text-align: right;\n",
              "    }\n",
              "</style>\n",
              "<table border=\"1\" class=\"dataframe\">\n",
              "  <thead>\n",
              "    <tr style=\"text-align: right;\">\n",
              "      <th></th>\n",
              "      <th>Used it for</th>\n",
              "      <th>rating</th>\n",
              "      <th>Visual Appeal</th>\n",
              "      <th>Reliability</th>\n",
              "      <th>Performance</th>\n",
              "      <th>Service Experience</th>\n",
              "      <th>Extra Features</th>\n",
              "      <th>Comfort</th>\n",
              "      <th>Maintenance cost</th>\n",
              "      <th>Value for Money</th>\n",
              "      <th>Model Name</th>\n",
              "    </tr>\n",
              "  </thead>\n",
              "  <tbody>\n",
              "    <tr>\n",
              "      <th>0</th>\n",
              "      <td>Daily Commute</td>\n",
              "      <td>1</td>\n",
              "      <td>3.0</td>\n",
              "      <td>4.0</td>\n",
              "      <td>NaN</td>\n",
              "      <td>NaN</td>\n",
              "      <td>NaN</td>\n",
              "      <td>4.0</td>\n",
              "      <td>NaN</td>\n",
              "      <td>1.0</td>\n",
              "      <td>TVS iQube</td>\n",
              "    </tr>\n",
              "    <tr>\n",
              "      <th>1</th>\n",
              "      <td>Everything</td>\n",
              "      <td>1</td>\n",
              "      <td>3.0</td>\n",
              "      <td>1.0</td>\n",
              "      <td>NaN</td>\n",
              "      <td>1.0</td>\n",
              "      <td>NaN</td>\n",
              "      <td>3.0</td>\n",
              "      <td>NaN</td>\n",
              "      <td>3.0</td>\n",
              "      <td>TVS iQube</td>\n",
              "    </tr>\n",
              "    <tr>\n",
              "      <th>2</th>\n",
              "      <td>Daily Commute</td>\n",
              "      <td>3</td>\n",
              "      <td>4.0</td>\n",
              "      <td>4.0</td>\n",
              "      <td>NaN</td>\n",
              "      <td>2.0</td>\n",
              "      <td>NaN</td>\n",
              "      <td>5.0</td>\n",
              "      <td>NaN</td>\n",
              "      <td>2.0</td>\n",
              "      <td>TVS iQube</td>\n",
              "    </tr>\n",
              "    <tr>\n",
              "      <th>3</th>\n",
              "      <td>Daily Commute</td>\n",
              "      <td>1</td>\n",
              "      <td>1.0</td>\n",
              "      <td>1.0</td>\n",
              "      <td>NaN</td>\n",
              "      <td>1.0</td>\n",
              "      <td>NaN</td>\n",
              "      <td>1.0</td>\n",
              "      <td>NaN</td>\n",
              "      <td>1.0</td>\n",
              "      <td>TVS iQube</td>\n",
              "    </tr>\n",
              "    <tr>\n",
              "      <th>4</th>\n",
              "      <td>Daily Commute</td>\n",
              "      <td>1</td>\n",
              "      <td>3.0</td>\n",
              "      <td>4.0</td>\n",
              "      <td>NaN</td>\n",
              "      <td>1.0</td>\n",
              "      <td>NaN</td>\n",
              "      <td>3.0</td>\n",
              "      <td>NaN</td>\n",
              "      <td>2.0</td>\n",
              "      <td>TVS iQube</td>\n",
              "    </tr>\n",
              "  </tbody>\n",
              "</table>\n",
              "</div>\n",
              "      <button class=\"colab-df-convert\" onclick=\"convertToInteractive('df-762acbde-cca6-490d-8c26-e6d2a27e5d0d')\"\n",
              "              title=\"Convert this dataframe to an interactive table.\"\n",
              "              style=\"display:none;\">\n",
              "        \n",
              "  <svg xmlns=\"http://www.w3.org/2000/svg\" height=\"24px\"viewBox=\"0 0 24 24\"\n",
              "       width=\"24px\">\n",
              "    <path d=\"M0 0h24v24H0V0z\" fill=\"none\"/>\n",
              "    <path d=\"M18.56 5.44l.94 2.06.94-2.06 2.06-.94-2.06-.94-.94-2.06-.94 2.06-2.06.94zm-11 1L8.5 8.5l.94-2.06 2.06-.94-2.06-.94L8.5 2.5l-.94 2.06-2.06.94zm10 10l.94 2.06.94-2.06 2.06-.94-2.06-.94-.94-2.06-.94 2.06-2.06.94z\"/><path d=\"M17.41 7.96l-1.37-1.37c-.4-.4-.92-.59-1.43-.59-.52 0-1.04.2-1.43.59L10.3 9.45l-7.72 7.72c-.78.78-.78 2.05 0 2.83L4 21.41c.39.39.9.59 1.41.59.51 0 1.02-.2 1.41-.59l7.78-7.78 2.81-2.81c.8-.78.8-2.07 0-2.86zM5.41 20L4 18.59l7.72-7.72 1.47 1.35L5.41 20z\"/>\n",
              "  </svg>\n",
              "      </button>\n",
              "      \n",
              "  <style>\n",
              "    .colab-df-container {\n",
              "      display:flex;\n",
              "      flex-wrap:wrap;\n",
              "      gap: 12px;\n",
              "    }\n",
              "\n",
              "    .colab-df-convert {\n",
              "      background-color: #E8F0FE;\n",
              "      border: none;\n",
              "      border-radius: 50%;\n",
              "      cursor: pointer;\n",
              "      display: none;\n",
              "      fill: #1967D2;\n",
              "      height: 32px;\n",
              "      padding: 0 0 0 0;\n",
              "      width: 32px;\n",
              "    }\n",
              "\n",
              "    .colab-df-convert:hover {\n",
              "      background-color: #E2EBFA;\n",
              "      box-shadow: 0px 1px 2px rgba(60, 64, 67, 0.3), 0px 1px 3px 1px rgba(60, 64, 67, 0.15);\n",
              "      fill: #174EA6;\n",
              "    }\n",
              "\n",
              "    [theme=dark] .colab-df-convert {\n",
              "      background-color: #3B4455;\n",
              "      fill: #D2E3FC;\n",
              "    }\n",
              "\n",
              "    [theme=dark] .colab-df-convert:hover {\n",
              "      background-color: #434B5C;\n",
              "      box-shadow: 0px 1px 3px 1px rgba(0, 0, 0, 0.15);\n",
              "      filter: drop-shadow(0px 1px 2px rgba(0, 0, 0, 0.3));\n",
              "      fill: #FFFFFF;\n",
              "    }\n",
              "  </style>\n",
              "\n",
              "      <script>\n",
              "        const buttonEl =\n",
              "          document.querySelector('#df-762acbde-cca6-490d-8c26-e6d2a27e5d0d button.colab-df-convert');\n",
              "        buttonEl.style.display =\n",
              "          google.colab.kernel.accessAllowed ? 'block' : 'none';\n",
              "\n",
              "        async function convertToInteractive(key) {\n",
              "          const element = document.querySelector('#df-762acbde-cca6-490d-8c26-e6d2a27e5d0d');\n",
              "          const dataTable =\n",
              "            await google.colab.kernel.invokeFunction('convertToInteractive',\n",
              "                                                     [key], {});\n",
              "          if (!dataTable) return;\n",
              "\n",
              "          const docLinkHtml = 'Like what you see? Visit the ' +\n",
              "            '<a target=\"_blank\" href=https://colab.research.google.com/notebooks/data_table.ipynb>data table notebook</a>'\n",
              "            + ' to learn more about interactive tables.';\n",
              "          element.innerHTML = '';\n",
              "          dataTable['output_type'] = 'display_data';\n",
              "          await google.colab.output.renderOutput(dataTable, element);\n",
              "          const docLink = document.createElement('div');\n",
              "          docLink.innerHTML = docLinkHtml;\n",
              "          element.appendChild(docLink);\n",
              "        }\n",
              "      </script>\n",
              "    </div>\n",
              "  </div>\n",
              "  "
            ]
          },
          "metadata": {},
          "execution_count": 16
        }
      ]
    },
    {
      "cell_type": "code",
      "source": [
        "df.info()"
      ],
      "metadata": {
        "colab": {
          "base_uri": "https://localhost:8080/"
        },
        "id": "jJ7rRQrWd_QU",
        "outputId": "eeda9cc8-56a3-4d65-edce-9f293ee73c78"
      },
      "execution_count": 8,
      "outputs": [
        {
          "output_type": "stream",
          "name": "stdout",
          "text": [
            "<class 'pandas.core.frame.DataFrame'>\n",
            "RangeIndex: 844 entries, 0 to 843\n",
            "Data columns (total 11 columns):\n",
            " #   Column              Non-Null Count  Dtype  \n",
            "---  ------              --------------  -----  \n",
            " 0   Used it for         844 non-null    object \n",
            " 1   rating              844 non-null    int64  \n",
            " 2   Visual Appeal       739 non-null    float64\n",
            " 3   Reliability         716 non-null    float64\n",
            " 4   Performance         345 non-null    float64\n",
            " 5   Service Experience  703 non-null    float64\n",
            " 6   Extra Features      185 non-null    float64\n",
            " 7   Comfort             530 non-null    float64\n",
            " 8   Maintenance cost    180 non-null    float64\n",
            " 9   Value for Money     390 non-null    float64\n",
            " 10  Model Name          844 non-null    object \n",
            "dtypes: float64(8), int64(1), object(2)\n",
            "memory usage: 72.7+ KB\n"
          ]
        }
      ]
    },
    {
      "cell_type": "code",
      "source": [
        "df.drop_duplicates(inplace = True)\n",
        "df.shape"
      ],
      "metadata": {
        "colab": {
          "base_uri": "https://localhost:8080/"
        },
        "id": "cheAN6IOeGQX",
        "outputId": "34a6135c-76bf-40e4-e7be-85e69be04ac0"
      },
      "execution_count": 17,
      "outputs": [
        {
          "output_type": "execute_result",
          "data": {
            "text/plain": [
              "(708, 11)"
            ]
          },
          "metadata": {},
          "execution_count": 17
        }
      ]
    },
    {
      "cell_type": "code",
      "source": [
        "df['Visual Appeal'].fillna(df['Visual Appeal'].mean(), inplace = True)\n",
        "df['Visual Appeal'].isnull().sum()"
      ],
      "metadata": {
        "colab": {
          "base_uri": "https://localhost:8080/"
        },
        "id": "3mAmLiAmgASP",
        "outputId": "880f1681-0798-4bd0-d32e-fb0104ab711a"
      },
      "execution_count": 18,
      "outputs": [
        {
          "output_type": "execute_result",
          "data": {
            "text/plain": [
              "0"
            ]
          },
          "metadata": {},
          "execution_count": 18
        }
      ]
    },
    {
      "cell_type": "code",
      "source": [
        "df.info()"
      ],
      "metadata": {
        "colab": {
          "base_uri": "https://localhost:8080/"
        },
        "id": "OekAFdTvgw-c",
        "outputId": "7ba77aa0-5bfb-44bc-a41c-8bf15819b211"
      },
      "execution_count": 20,
      "outputs": [
        {
          "output_type": "stream",
          "name": "stdout",
          "text": [
            "<class 'pandas.core.frame.DataFrame'>\n",
            "Int64Index: 708 entries, 0 to 843\n",
            "Data columns (total 11 columns):\n",
            " #   Column              Non-Null Count  Dtype  \n",
            "---  ------              --------------  -----  \n",
            " 0   Used it for         708 non-null    object \n",
            " 1   rating              708 non-null    int64  \n",
            " 2   Visual Appeal       708 non-null    float64\n",
            " 3   Reliability         610 non-null    float64\n",
            " 4   Performance         312 non-null    float64\n",
            " 5   Service Experience  596 non-null    float64\n",
            " 6   Extra Features      170 non-null    float64\n",
            " 7   Comfort             437 non-null    float64\n",
            " 8   Maintenance cost    165 non-null    float64\n",
            " 9   Value for Money     316 non-null    float64\n",
            " 10  Model Name          708 non-null    object \n",
            "dtypes: float64(8), int64(1), object(2)\n",
            "memory usage: 66.4+ KB\n"
          ]
        }
      ]
    },
    {
      "cell_type": "code",
      "source": [
        "df['Reliability'].fillna(df['Reliability'].mean(), inplace = True)\n",
        "df['Reliability'].isnull().sum()"
      ],
      "metadata": {
        "colab": {
          "base_uri": "https://localhost:8080/"
        },
        "id": "9GDxBC5VhZ5U",
        "outputId": "f0938b7b-f30a-4f3b-bb53-87a754b7a63b"
      },
      "execution_count": 21,
      "outputs": [
        {
          "output_type": "execute_result",
          "data": {
            "text/plain": [
              "0"
            ]
          },
          "metadata": {},
          "execution_count": 21
        }
      ]
    },
    {
      "cell_type": "code",
      "source": [
        "df['Performance'].fillna(df['Performance'].mean(), inplace = True)\n",
        "df['Performance'].isnull().sum()"
      ],
      "metadata": {
        "colab": {
          "base_uri": "https://localhost:8080/"
        },
        "id": "xwlPaqnyhgAN",
        "outputId": "fc41d63f-ee4b-438a-cd68-9614dd5f6be6"
      },
      "execution_count": 22,
      "outputs": [
        {
          "output_type": "execute_result",
          "data": {
            "text/plain": [
              "0"
            ]
          },
          "metadata": {},
          "execution_count": 22
        }
      ]
    },
    {
      "cell_type": "code",
      "source": [
        "df['Service Experience'].fillna(df['Service Experience'].mean(), inplace = True)\n",
        "df['Service Experience'].isnull().sum()"
      ],
      "metadata": {
        "colab": {
          "base_uri": "https://localhost:8080/"
        },
        "id": "hHeAhF_Qhn6Q",
        "outputId": "f21c789e-753d-4b73-8770-a1936a1e8654"
      },
      "execution_count": 23,
      "outputs": [
        {
          "output_type": "execute_result",
          "data": {
            "text/plain": [
              "0"
            ]
          },
          "metadata": {},
          "execution_count": 23
        }
      ]
    },
    {
      "cell_type": "code",
      "source": [
        "df['Extra Features'].fillna(df['Extra Features'].mean(), inplace = True)\n",
        "df['Extra Features'].isnull().sum()"
      ],
      "metadata": {
        "colab": {
          "base_uri": "https://localhost:8080/"
        },
        "id": "zMgKT-O7huBv",
        "outputId": "35703a38-4516-4aa9-ad68-574e705697b0"
      },
      "execution_count": 24,
      "outputs": [
        {
          "output_type": "execute_result",
          "data": {
            "text/plain": [
              "0"
            ]
          },
          "metadata": {},
          "execution_count": 24
        }
      ]
    },
    {
      "cell_type": "code",
      "source": [
        "df['Comfort'].fillna(df['Comfort'].mean(), inplace = True)\n",
        "df['Comfort'].isnull().sum()"
      ],
      "metadata": {
        "colab": {
          "base_uri": "https://localhost:8080/"
        },
        "id": "RCyZd3-Ehz7D",
        "outputId": "c4d20218-9b5c-4fe3-a022-92a298dcd95a"
      },
      "execution_count": 25,
      "outputs": [
        {
          "output_type": "execute_result",
          "data": {
            "text/plain": [
              "0"
            ]
          },
          "metadata": {},
          "execution_count": 25
        }
      ]
    },
    {
      "cell_type": "code",
      "source": [
        "df['Maintenance cost'].fillna(df['Maintenance cost'].mean(), inplace = True)\n",
        "df['Maintenance cost'].isnull().sum()"
      ],
      "metadata": {
        "colab": {
          "base_uri": "https://localhost:8080/"
        },
        "id": "lSFxtFhAh7cx",
        "outputId": "d4fa00b5-f9ce-4acc-9711-d00ea83a2f5e"
      },
      "execution_count": 26,
      "outputs": [
        {
          "output_type": "execute_result",
          "data": {
            "text/plain": [
              "0"
            ]
          },
          "metadata": {},
          "execution_count": 26
        }
      ]
    },
    {
      "cell_type": "code",
      "source": [
        "df['Value for Money'].fillna(df['Value for Money'].mean(), inplace = True)\n",
        "df['Value for Money'].isnull().sum()"
      ],
      "metadata": {
        "colab": {
          "base_uri": "https://localhost:8080/"
        },
        "id": "He7PS6CqiCla",
        "outputId": "ae3e6cbe-5868-4465-fa6a-824a52679386"
      },
      "execution_count": 27,
      "outputs": [
        {
          "output_type": "execute_result",
          "data": {
            "text/plain": [
              "0"
            ]
          },
          "metadata": {},
          "execution_count": 27
        }
      ]
    },
    {
      "cell_type": "code",
      "source": [
        "df.info()"
      ],
      "metadata": {
        "colab": {
          "base_uri": "https://localhost:8080/"
        },
        "id": "JsMOHbVdiQ5x",
        "outputId": "018cb896-4791-49fa-b827-dbb1bedc9b77"
      },
      "execution_count": 28,
      "outputs": [
        {
          "output_type": "stream",
          "name": "stdout",
          "text": [
            "<class 'pandas.core.frame.DataFrame'>\n",
            "Int64Index: 708 entries, 0 to 843\n",
            "Data columns (total 11 columns):\n",
            " #   Column              Non-Null Count  Dtype  \n",
            "---  ------              --------------  -----  \n",
            " 0   Used it for         708 non-null    object \n",
            " 1   rating              708 non-null    int64  \n",
            " 2   Visual Appeal       708 non-null    float64\n",
            " 3   Reliability         708 non-null    float64\n",
            " 4   Performance         708 non-null    float64\n",
            " 5   Service Experience  708 non-null    float64\n",
            " 6   Extra Features      708 non-null    float64\n",
            " 7   Comfort             708 non-null    float64\n",
            " 8   Maintenance cost    708 non-null    float64\n",
            " 9   Value for Money     708 non-null    float64\n",
            " 10  Model Name          708 non-null    object \n",
            "dtypes: float64(8), int64(1), object(2)\n",
            "memory usage: 66.4+ KB\n"
          ]
        }
      ]
    },
    {
      "cell_type": "code",
      "source": [
        "df['Used it for'].unique()"
      ],
      "metadata": {
        "colab": {
          "base_uri": "https://localhost:8080/"
        },
        "id": "jv2aFPYii1Be",
        "outputId": "ccab2623-cc80-43e2-a81c-a5f8b304c086"
      },
      "execution_count": 29,
      "outputs": [
        {
          "output_type": "execute_result",
          "data": {
            "text/plain": [
              "array(['Daily Commute', 'Everything', 'Occasional Commute',\n",
              "       'Leisure Rides', 'Tours'], dtype=object)"
            ]
          },
          "metadata": {},
          "execution_count": 29
        }
      ]
    },
    {
      "cell_type": "markdown",
      "source": [
        "Visualisation Analysis"
      ],
      "metadata": {
        "id": "GltSpo2kjZvb"
      }
    },
    {
      "cell_type": "code",
      "source": [
        "df['Used it for'].value_counts()"
      ],
      "metadata": {
        "colab": {
          "base_uri": "https://localhost:8080/"
        },
        "id": "gLeWRMLxjdPs",
        "outputId": "fd6efcf5-1d73-47a2-b4cd-291c7ae8e96d"
      },
      "execution_count": 31,
      "outputs": [
        {
          "output_type": "execute_result",
          "data": {
            "text/plain": [
              "Daily Commute         495\n",
              "Everything            133\n",
              "Occasional Commute     52\n",
              "Leisure Rides          20\n",
              "Tours                   8\n",
              "Name: Used it for, dtype: int64"
            ]
          },
          "metadata": {},
          "execution_count": 31
        }
      ]
    },
    {
      "cell_type": "code",
      "source": [
        "sns.countplot(x='Used it for',data=df) \n",
        "plt.xticks(rotation=90)"
      ],
      "metadata": {
        "colab": {
          "base_uri": "https://localhost:8080/",
          "height": 687
        },
        "id": "Y9pDbnRPl2Rr",
        "outputId": "159c2ccb-88c1-48a0-b529-393c73fe147e"
      },
      "execution_count": 47,
      "outputs": [
        {
          "output_type": "execute_result",
          "data": {
            "text/plain": [
              "(array([0, 1, 2, 3, 4]),\n",
              " [Text(0, 0, 'Daily Commute'),\n",
              "  Text(1, 0, 'Everything'),\n",
              "  Text(2, 0, 'Occasional Commute'),\n",
              "  Text(3, 0, 'Leisure Rides'),\n",
              "  Text(4, 0, 'Tours')])"
            ]
          },
          "metadata": {},
          "execution_count": 47
        },
        {
          "output_type": "display_data",
          "data": {
            "text/plain": [
              "<Figure size 640x480 with 1 Axes>"
            ],
            "image/png": "[encoded data removed]"
          },
          "metadata": {}
        }
      ]
    },
    {
      "cell_type": "code",
      "source": [
        "df.head()"
      ],
      "metadata": {
        "colab": {
          "base_uri": "https://localhost:8080/",
          "height": 250
        },
        "id": "weNZYE9noz-T",
        "outputId": "a2534034-fd49-453e-ae6b-561eec9e542c"
      },
      "execution_count": 48,
      "outputs": [
        {
          "output_type": "execute_result",
          "data": {
            "text/plain": [
              "     Used it for  rating  Visual Appeal  Reliability  Performance  \\\n",
              "0  Daily Commute       1            3.0          4.0     3.490385   \n",
              "1     Everything       1            3.0          1.0     3.490385   \n",
              "2  Daily Commute       3            4.0          4.0     3.490385   \n",
              "3  Daily Commute       1            1.0          1.0     3.490385   \n",
              "4  Daily Commute       1            3.0          4.0     3.490385   \n",
              "\n",
              "   Service Experience  Extra Features  Comfort  Maintenance cost  \\\n",
              "0            3.028523        2.917647      4.0          3.418182   \n",
              "1            1.000000        2.917647      3.0          3.418182   \n",
              "2            2.000000        2.917647      5.0          3.418182   \n",
              "3            1.000000        2.917647      1.0          3.418182   \n",
              "4            1.000000        2.917647      3.0          3.418182   \n",
              "\n",
              "   Value for Money Model Name  \n",
              "0              1.0  TVS iQube  \n",
              "1              3.0  TVS iQube  \n",
              "2              2.0  TVS iQube  \n",
              "3              1.0  TVS iQube  \n",
              "4              2.0  TVS iQube  "
            ],
            "text/html": [
              "\n",
              "  <div id=\"df-6b8068c7-3d76-4598-8d5d-b8bb9ce9d076\">\n",
              "    <div class=\"colab-df-container\">\n",
              "      <div>\n",
              "<style scoped>\n",
              "    .dataframe tbody tr th:only-of-type {\n",
              "        vertical-align: middle;\n",
              "    }\n",
              "\n",
              "    .dataframe tbody tr th {\n",
              "        vertical-align: top;\n",
              "    }\n",
              "\n",
              "    .dataframe thead th {\n",
              "        text-align: right;\n",
              "    }\n",
              "</style>\n",
              "<table border=\"1\" class=\"dataframe\">\n",
              "  <thead>\n",
              "    <tr style=\"text-align: right;\">\n",
              "      <th></th>\n",
              "      <th>Used it for</th>\n",
              "      <th>rating</th>\n",
              "      <th>Visual Appeal</th>\n",
              "      <th>Reliability</th>\n",
              "      <th>Performance</th>\n",
              "      <th>Service Experience</th>\n",
              "      <th>Extra Features</th>\n",
              "      <th>Comfort</th>\n",
              "      <th>Maintenance cost</th>\n",
              "      <th>Value for Money</th>\n",
              "      <th>Model Name</th>\n",
              "    </tr>\n",
              "  </thead>\n",
              "  <tbody>\n",
              "    <tr>\n",
              "      <th>0</th>\n",
              "      <td>Daily Commute</td>\n",
              "      <td>1</td>\n",
              "      <td>3.0</td>\n",
              "      <td>4.0</td>\n",
              "      <td>3.490385</td>\n",
              "      <td>3.028523</td>\n",
              "      <td>2.917647</td>\n",
              "      <td>4.0</td>\n",
              "      <td>3.418182</td>\n",
              "      <td>1.0</td>\n",
              "      <td>TVS iQube</td>\n",
              "    </tr>\n",
              "    <tr>\n",
              "      <th>1</th>\n",
              "      <td>Everything</td>\n",
              "      <td>1</td>\n",
              "      <td>3.0</td>\n",
              "      <td>1.0</td>\n",
              "      <td>3.490385</td>\n",
              "      <td>1.000000</td>\n",
              "      <td>2.917647</td>\n",
              "      <td>3.0</td>\n",
              "      <td>3.418182</td>\n",
              "      <td>3.0</td>\n",
              "      <td>TVS iQube</td>\n",
              "    </tr>\n",
              "    <tr>\n",
              "      <th>2</th>\n",
              "      <td>Daily Commute</td>\n",
              "      <td>3</td>\n",
              "      <td>4.0</td>\n",
              "      <td>4.0</td>\n",
              "      <td>3.490385</td>\n",
              "      <td>2.000000</td>\n",
              "      <td>2.917647</td>\n",
              "      <td>5.0</td>\n",
              "      <td>3.418182</td>\n",
              "      <td>2.0</td>\n",
              "      <td>TVS iQube</td>\n",
              "    </tr>\n",
              "    <tr>\n",
              "      <th>3</th>\n",
              "      <td>Daily Commute</td>\n",
              "      <td>1</td>\n",
              "      <td>1.0</td>\n",
              "      <td>1.0</td>\n",
              "      <td>3.490385</td>\n",
              "      <td>1.000000</td>\n",
              "      <td>2.917647</td>\n",
              "      <td>1.0</td>\n",
              "      <td>3.418182</td>\n",
              "      <td>1.0</td>\n",
              "      <td>TVS iQube</td>\n",
              "    </tr>\n",
              "    <tr>\n",
              "      <th>4</th>\n",
              "      <td>Daily Commute</td>\n",
              "      <td>1</td>\n",
              "      <td>3.0</td>\n",
              "      <td>4.0</td>\n",
              "      <td>3.490385</td>\n",
              "      <td>1.000000</td>\n",
              "      <td>2.917647</td>\n",
              "      <td>3.0</td>\n",
              "      <td>3.418182</td>\n",
              "      <td>2.0</td>\n",
              "      <td>TVS iQube</td>\n",
              "    </tr>\n",
              "  </tbody>\n",
              "</table>\n",
              "</div>\n",
              "      <button class=\"colab-df-convert\" onclick=\"convertToInteractive('df-6b8068c7-3d76-4598-8d5d-b8bb9ce9d076')\"\n",
              "              title=\"Convert this dataframe to an interactive table.\"\n",
              "              style=\"display:none;\">\n",
              "        \n",
              "  <svg xmlns=\"http://www.w3.org/2000/svg\" height=\"24px\"viewBox=\"0 0 24 24\"\n",
              "       width=\"24px\">\n",
              "    <path d=\"M0 0h24v24H0V0z\" fill=\"none\"/>\n",
              "    <path d=\"M18.56 5.44l.94 2.06.94-2.06 2.06-.94-2.06-.94-.94-2.06-.94 2.06-2.06.94zm-11 1L8.5 8.5l.94-2.06 2.06-.94-2.06-.94L8.5 2.5l-.94 2.06-2.06.94zm10 10l.94 2.06.94-2.06 2.06-.94-2.06-.94-.94-2.06-.94 2.06-2.06.94z\"/><path d=\"M17.41 7.96l-1.37-1.37c-.4-.4-.92-.59-1.43-.59-.52 0-1.04.2-1.43.59L10.3 9.45l-7.72 7.72c-.78.78-.78 2.05 0 2.83L4 21.41c.39.39.9.59 1.41.59.51 0 1.02-.2 1.41-.59l7.78-7.78 2.81-2.81c.8-.78.8-2.07 0-2.86zM5.41 20L4 18.59l7.72-7.72 1.47 1.35L5.41 20z\"/>\n",
              "  </svg>\n",
              "      </button>\n",
              "      \n",
              "  <style>\n",
              "    .colab-df-container {\n",
              "      display:flex;\n",
              "      flex-wrap:wrap;\n",
              "      gap: 12px;\n",
              "    }\n",
              "\n",
              "    .colab-df-convert {\n",
              "      background-color: #E8F0FE;\n",
              "      border: none;\n",
              "      border-radius: 50%;\n",
              "      cursor: pointer;\n",
              "      display: none;\n",
              "      fill: #1967D2;\n",
              "      height: 32px;\n",
              "      padding: 0 0 0 0;\n",
              "      width: 32px;\n",
              "    }\n",
              "\n",
              "    .colab-df-convert:hover {\n",
              "      background-color: #E2EBFA;\n",
              "      box-shadow: 0px 1px 2px rgba(60, 64, 67, 0.3), 0px 1px 3px 1px rgba(60, 64, 67, 0.15);\n",
              "      fill: #174EA6;\n",
              "    }\n",
              "\n",
              "    [theme=dark] .colab-df-convert {\n",
              "      background-color: #3B4455;\n",
              "      fill: #D2E3FC;\n",
              "    }\n",
              "\n",
              "    [theme=dark] .colab-df-convert:hover {\n",
              "      background-color: #434B5C;\n",
              "      box-shadow: 0px 1px 3px 1px rgba(0, 0, 0, 0.15);\n",
              "      filter: drop-shadow(0px 1px 2px rgba(0, 0, 0, 0.3));\n",
              "      fill: #FFFFFF;\n",
              "    }\n",
              "  </style>\n",
              "\n",
              "      <script>\n",
              "        const buttonEl =\n",
              "          document.querySelector('#df-6b8068c7-3d76-4598-8d5d-b8bb9ce9d076 button.colab-df-convert');\n",
              "        buttonEl.style.display =\n",
              "          google.colab.kernel.accessAllowed ? 'block' : 'none';\n",
              "\n",
              "        async function convertToInteractive(key) {\n",
              "          const element = document.querySelector('#df-6b8068c7-3d76-4598-8d5d-b8bb9ce9d076');\n",
              "          const dataTable =\n",
              "            await google.colab.kernel.invokeFunction('convertToInteractive',\n",
              "                                                     [key], {});\n",
              "          if (!dataTable) return;\n",
              "\n",
              "          const docLinkHtml = 'Like what you see? Visit the ' +\n",
              "            '<a target=\"_blank\" href=https://colab.research.google.com/notebooks/data_table.ipynb>data table notebook</a>'\n",
              "            + ' to learn more about interactive tables.';\n",
              "          element.innerHTML = '';\n",
              "          dataTable['output_type'] = 'display_data';\n",
              "          await google.colab.output.renderOutput(dataTable, element);\n",
              "          const docLink = document.createElement('div');\n",
              "          docLink.innerHTML = docLinkHtml;\n",
              "          element.appendChild(docLink);\n",
              "        }\n",
              "      </script>\n",
              "    </div>\n",
              "  </div>\n",
              "  "
            ]
          },
          "metadata": {},
          "execution_count": 48
        }
      ]
    },
    {
      "cell_type": "code",
      "source": [
        "sns.countplot(x='rating',data=df) "
      ],
      "metadata": {
        "colab": {
          "base_uri": "https://localhost:8080/",
          "height": 466
        },
        "id": "MYzhUHdmpAGb",
        "outputId": "cb606d8b-e497-4405-96b8-a8138968fd42"
      },
      "execution_count": 49,
      "outputs": [
        {
          "output_type": "execute_result",
          "data": {
            "text/plain": [
              "<Axes: xlabel='rating', ylabel='count'>"
            ]
          },
          "metadata": {},
          "execution_count": 49
        },
        {
          "output_type": "display_data",
          "data": {
            "text/plain": [
              "<Figure size 640x480 with 1 Axes>"
            ],
            "image/png": "[encoded data removed]"
          },
          "metadata": {}
        }
      ]
    },
    {
      "cell_type": "code",
      "source": [
        "sns.countplot(x='Value for Money',data=df) "
      ],
      "metadata": {
        "colab": {
          "base_uri": "https://localhost:8080/",
          "height": 466
        },
        "id": "xeMHGaDRpOue",
        "outputId": "35928f52-c349-46a6-86a0-7e25c6b21de9"
      },
      "execution_count": 50,
      "outputs": [
        {
          "output_type": "execute_result",
          "data": {
            "text/plain": [
              "<Axes: xlabel='Value for Money', ylabel='count'>"
            ]
          },
          "metadata": {},
          "execution_count": 50
        },
        {
          "output_type": "display_data",
          "data": {
            "text/plain": [
              "<Figure size 640x480 with 1 Axes>"
            ],
            "image/png": "[encoded data removed]"
          },
          "metadata": {}
        }
      ]
    },
    {
      "cell_type": "markdown",
      "source": [
        "For 4 wheeler"
      ],
      "metadata": {
        "id": "OjCGhyhZrKS9"
      }
    },
    {
      "cell_type": "code",
      "source": [
        "tf = pd.read_csv('/content/4-wheeler-EV-cardekho.csv')\n",
        "tf.head()"
      ],
      "metadata": {
        "colab": {
          "base_uri": "https://localhost:8080/",
          "height": 362
        },
        "id": "sjMRB7b6rMIc",
        "outputId": "94de7f74-6e13-46e8-836b-e4a0af5ccd71"
      },
      "execution_count": 54,
      "outputs": [
        {
          "output_type": "execute_result",
          "data": {
            "text/plain": [
              "                                              Review  Rating  \\\n",
              "0  Using it for the last 1 month. It's a gentle-l...     5.0   \n",
              "1  In the beginning, the car performed excellentl...     1.0   \n",
              "2  Hyundai is the best performing company beating...     5.0   \n",
              "3  The car offers reasonable performance in this ...     5.0   \n",
              "4  Hyundai Kona - First electric car of India was...     4.0   \n",
              "\n",
              "                                Attributes Mentioned         Model  \n",
              "0  ['mileage' 'performance' 'power' 'price' 'seat...  hyundai kona  \n",
              "1        ['mileage' 'performance' 'service' 'parts']  hyundai kona  \n",
              "2                          ['performance' 'service']  hyundai kona  \n",
              "3                                    ['performance']  hyundai kona  \n",
              "4  ['looks' 'comfort' 'interior' 'price' 'insuran...  hyundai kona  "
            ],
            "text/html": [
              "\n",
              "  <div id=\"df-acc845cc-9371-45d8-b65d-4f9b3dfac115\">\n",
              "    <div class=\"colab-df-container\">\n",
              "      <div>\n",
              "<style scoped>\n",
              "    .dataframe tbody tr th:only-of-type {\n",
              "        vertical-align: middle;\n",
              "    }\n",
              "\n",
              "    .dataframe tbody tr th {\n",
              "        vertical-align: top;\n",
              "    }\n",
              "\n",
              "    .dataframe thead th {\n",
              "        text-align: right;\n",
              "    }\n",
              "</style>\n",
              "<table border=\"1\" class=\"dataframe\">\n",
              "  <thead>\n",
              "    <tr style=\"text-align: right;\">\n",
              "      <th></th>\n",
              "      <th>Review</th>\n",
              "      <th>Rating</th>\n",
              "      <th>Attributes Mentioned</th>\n",
              "      <th>Model</th>\n",
              "    </tr>\n",
              "  </thead>\n",
              "  <tbody>\n",
              "    <tr>\n",
              "      <th>0</th>\n",
              "      <td>Using it for the last 1 month. It's a gentle-l...</td>\n",
              "      <td>5.0</td>\n",
              "      <td>['mileage' 'performance' 'power' 'price' 'seat...</td>\n",
              "      <td>hyundai kona</td>\n",
              "    </tr>\n",
              "    <tr>\n",
              "      <th>1</th>\n",
              "      <td>In the beginning, the car performed excellentl...</td>\n",
              "      <td>1.0</td>\n",
              "      <td>['mileage' 'performance' 'service' 'parts']</td>\n",
              "      <td>hyundai kona</td>\n",
              "    </tr>\n",
              "    <tr>\n",
              "      <th>2</th>\n",
              "      <td>Hyundai is the best performing company beating...</td>\n",
              "      <td>5.0</td>\n",
              "      <td>['performance' 'service']</td>\n",
              "      <td>hyundai kona</td>\n",
              "    </tr>\n",
              "    <tr>\n",
              "      <th>3</th>\n",
              "      <td>The car offers reasonable performance in this ...</td>\n",
              "      <td>5.0</td>\n",
              "      <td>['performance']</td>\n",
              "      <td>hyundai kona</td>\n",
              "    </tr>\n",
              "    <tr>\n",
              "      <th>4</th>\n",
              "      <td>Hyundai Kona - First electric car of India was...</td>\n",
              "      <td>4.0</td>\n",
              "      <td>['looks' 'comfort' 'interior' 'price' 'insuran...</td>\n",
              "      <td>hyundai kona</td>\n",
              "    </tr>\n",
              "  </tbody>\n",
              "</table>\n",
              "</div>\n",
              "      <button class=\"colab-df-convert\" onclick=\"convertToInteractive('df-acc845cc-9371-45d8-b65d-4f9b3dfac115')\"\n",
              "              title=\"Convert this dataframe to an interactive table.\"\n",
              "              style=\"display:none;\">\n",
              "        \n",
              "  <svg xmlns=\"http://www.w3.org/2000/svg\" height=\"24px\"viewBox=\"0 0 24 24\"\n",
              "       width=\"24px\">\n",
              "    <path d=\"M0 0h24v24H0V0z\" fill=\"none\"/>\n",
              "    <path d=\"M18.56 5.44l.94 2.06.94-2.06 2.06-.94-2.06-.94-.94-2.06-.94 2.06-2.06.94zm-11 1L8.5 8.5l.94-2.06 2.06-.94-2.06-.94L8.5 2.5l-.94 2.06-2.06.94zm10 10l.94 2.06.94-2.06 2.06-.94-2.06-.94-.94-2.06-.94 2.06-2.06.94z\"/><path d=\"M17.41 7.96l-1.37-1.37c-.4-.4-.92-.59-1.43-.59-.52 0-1.04.2-1.43.59L10.3 9.45l-7.72 7.72c-.78.78-.78 2.05 0 2.83L4 21.41c.39.39.9.59 1.41.59.51 0 1.02-.2 1.41-.59l7.78-7.78 2.81-2.81c.8-.78.8-2.07 0-2.86zM5.41 20L4 18.59l7.72-7.72 1.47 1.35L5.41 20z\"/>\n",
              "  </svg>\n",
              "      </button>\n",
              "      \n",
              "  <style>\n",
              "    .colab-df-container {\n",
              "      display:flex;\n",
              "      flex-wrap:wrap;\n",
              "      gap: 12px;\n",
              "    }\n",
              "\n",
              "    .colab-df-convert {\n",
              "      background-color: #E8F0FE;\n",
              "      border: none;\n",
              "      border-radius: 50%;\n",
              "      cursor: pointer;\n",
              "      display: none;\n",
              "      fill: #1967D2;\n",
              "      height: 32px;\n",
              "      padding: 0 0 0 0;\n",
              "      width: 32px;\n",
              "    }\n",
              "\n",
              "    .colab-df-convert:hover {\n",
              "      background-color: #E2EBFA;\n",
              "      box-shadow: 0px 1px 2px rgba(60, 64, 67, 0.3), 0px 1px 3px 1px rgba(60, 64, 67, 0.15);\n",
              "      fill: #174EA6;\n",
              "    }\n",
              "\n",
              "    [theme=dark] .colab-df-convert {\n",
              "      background-color: #3B4455;\n",
              "      fill: #D2E3FC;\n",
              "    }\n",
              "\n",
              "    [theme=dark] .colab-df-convert:hover {\n",
              "      background-color: #434B5C;\n",
              "      box-shadow: 0px 1px 3px 1px rgba(0, 0, 0, 0.15);\n",
              "      filter: drop-shadow(0px 1px 2px rgba(0, 0, 0, 0.3));\n",
              "      fill: #FFFFFF;\n",
              "    }\n",
              "  </style>\n",
              "\n",
              "      <script>\n",
              "        const buttonEl =\n",
              "          document.querySelector('#df-acc845cc-9371-45d8-b65d-4f9b3dfac115 button.colab-df-convert');\n",
              "        buttonEl.style.display =\n",
              "          google.colab.kernel.accessAllowed ? 'block' : 'none';\n",
              "\n",
              "        async function convertToInteractive(key) {\n",
              "          const element = document.querySelector('#df-acc845cc-9371-45d8-b65d-4f9b3dfac115');\n",
              "          const dataTable =\n",
              "            await google.colab.kernel.invokeFunction('convertToInteractive',\n",
              "                                                     [key], {});\n",
              "          if (!dataTable) return;\n",
              "\n",
              "          const docLinkHtml = 'Like what you see? Visit the ' +\n",
              "            '<a target=\"_blank\" href=https://colab.research.google.com/notebooks/data_table.ipynb>data table notebook</a>'\n",
              "            + ' to learn more about interactive tables.';\n",
              "          element.innerHTML = '';\n",
              "          dataTable['output_type'] = 'display_data';\n",
              "          await google.colab.output.renderOutput(dataTable, element);\n",
              "          const docLink = document.createElement('div');\n",
              "          docLink.innerHTML = docLinkHtml;\n",
              "          element.appendChild(docLink);\n",
              "        }\n",
              "      </script>\n",
              "    </div>\n",
              "  </div>\n",
              "  "
            ]
          },
          "metadata": {},
          "execution_count": 54
        }
      ]
    },
    {
      "cell_type": "code",
      "source": [
        "sns.countplot(x='Rating',data=tf)"
      ],
      "metadata": {
        "colab": {
          "base_uri": "https://localhost:8080/",
          "height": 466
        },
        "id": "vcpzaEMgra9n",
        "outputId": "07ed1bb0-b402-4683-9289-79b9f7159949"
      },
      "execution_count": 53,
      "outputs": [
        {
          "output_type": "execute_result",
          "data": {
            "text/plain": [
              "<Axes: xlabel='Rating', ylabel='count'>"
            ]
          },
          "metadata": {},
          "execution_count": 53
        },
        {
          "output_type": "display_data",
          "data": {
            "text/plain": [
              "<Figure size 640x480 with 1 Axes>"
            ],
            "image/png": "[encoded data removed]"
          },
          "metadata": {}
        }
      ]
    }
  ]
}